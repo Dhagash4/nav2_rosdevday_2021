{
 "cells": [
  {
   "cell_type": "markdown",
   "id": "d347f210-80bb-4a51-8b4f-5f726bda847d",
   "metadata": {},
   "source": [
    "![logos](https://user-images.githubusercontent.com/14944147/120395211-79b4e980-c2e9-11eb-80af-7012b2e75cde.png)"
   ]
  },
  {
   "cell_type": "markdown",
   "id": "0323caee-c77e-46fe-8dc5-7cc13a67fc21",
   "metadata": {},
   "source": [
    "# Practical Demonstration of New User-Requested Nav2 Features #\n"
   ]
  },
  {
   "cell_type": "markdown",
   "id": "b137ea0d-f99d-42bd-8d55-3cf876808b6e",
   "metadata": {},
   "source": [
    "## Who Am I?"
   ]
  },
  {
   "cell_type": "markdown",
   "id": "0d9637fa-9a7e-4e88-965b-9cc4e51a392d",
   "metadata": {},
   "source": [
    "Hi, I'm [Steve Macenski](https://www.linkedin.com/in/steve-macenski-41a985101/). I do a great deal of different \"robotics stuff\" at [Samsung Research America](https://www.sra.samsung.com/) as the *Open-Source Robotics, Engineering Lead*. I consult with internal Samsung robotics teams on technology and business, work on mobile robot and perception research, and lead the ROS2 mobile robotics ecosystem. I sit on the [ROS2 TSC](https://docs.ros.org/en/foxy/Governance.html) and I am the leader of the Navigation Working Group. \n",
    "\n",
    "Before my current role, I was the leader of the robotics team at [Simbe Robotics](https://www.simberobotics.com/) and worked on NASA's Asteroid Redirect Robotic Mission and RESTORE-L (a  servicing mission to Landsat-7)."
   ]
  },
  {
   "cell_type": "markdown",
   "id": "53753bbb-6539-4821-b7fe-2b8d908d8de8",
   "metadata": {},
   "source": [
    "## Overview"
   ]
  },
  {
   "cell_type": "markdown",
   "id": "32018c03-133d-4f25-8520-0dda10c47645",
   "metadata": {},
   "source": [
    "Nav2 is the second generation of the ROS Navigation Stack. It contains a growing set of capabilities, algorithms, and features to build production and research applications. You can find more information about Nav2 at: https://navigation.ros.org.\n",
    "\n",
    "In the following talk, we're going to discuss some of the more basic new features in Nav2 that can help you build your research or applications. This includes:\n",
    "    - Basic Nav2 operation through Rviz2 using **NavigateToPose**\n",
    "    - Basic Nav2 operation through a Python3 script using **NavigateThroughPoses**\n",
    "    - Use of the Waypoint Follower and Task Executor plugins\n",
    "    - Introduction to keepout zones and speed restricted zones\n",
    "\n",
    "We will then put all of these together to show a basic autonomous robotics demo based on Nav2. We will be doing this in a simulated warehouse where robots are often deployed:"
   ]
  },
  {
   "cell_type": "markdown",
   "id": "958a8573-5ad1-4e58-8d58-17dd8efd989e",
   "metadata": {},
   "source": [
    "![](https://raw.githubusercontent.com/aws-robotics/aws-robomaker-small-warehouse-world/master/docs/images/small_warehouse_gazebo.png)\n",
    "\n",
    "*Taken from [here](https://github.com/aws-robotics/aws-robomaker-small-warehouse-world)."
   ]
  },
  {
   "cell_type": "markdown",
   "id": "6bf93a00-0790-488b-885c-38cf1312a8ec",
   "metadata": {},
   "source": [
    "## Nav2 Overview"
   ]
  },
  {
   "cell_type": "markdown",
   "id": "51a13d63-06e8-445b-b06d-aa60a2d0b79a",
   "metadata": {},
   "source": [
    "- Independent, modular servers\n",
    "- Configurable navigation logic, dynamically loaded BT nodes, and per-task behavior selection\n",
    "- A growing set of run-time reconfigurable algorithms and plugins\n",
    "- Software quality, linting, and testing (86% test coverage)\n",
    "- Documentation and a rich community with Slack and Working Group (Join us! [Sign up for the working group here](https://calendar.google.com/calendar/u/0/embed?src=agf3kajirket8khktupm9go748@group.calendar.google.com&ctz=America/Los_Angeles))\n"
   ]
  },
  {
   "cell_type": "markdown",
   "id": "5ef7f742-5a68-41fc-a5c9-4436c96ccad9",
   "metadata": {},
   "source": [
    "![](https://navigation.ros.org/_images/architectural_diagram.png)"
   ]
  },
  {
   "cell_type": "markdown",
   "id": "9b029e12-5aab-40a2-a53c-a870b138f193",
   "metadata": {},
   "source": [
    "## Let's Get Started!"
   ]
  },
  {
   "cell_type": "code",
   "execution_count": null,
   "id": "b82466b4-edb6-48eb-bf4d-092aa3b66b0b",
   "metadata": {},
   "outputs": [],
   "source": []
  }
 ],
 "metadata": {
  "kernelspec": {
   "display_name": "Python 3",
   "language": "python",
   "name": "python3"
  },
  "language_info": {
   "codemirror_mode": {
    "name": "ipython",
    "version": 3
   },
   "file_extension": ".py",
   "mimetype": "text/x-python",
   "name": "python",
   "nbconvert_exporter": "python",
   "pygments_lexer": "ipython3",
   "version": "3.8.5"
  }
 },
 "nbformat": 4,
 "nbformat_minor": 5
}
